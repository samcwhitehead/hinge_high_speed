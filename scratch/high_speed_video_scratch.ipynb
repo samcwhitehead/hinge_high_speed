{
 "cells": [
  {
   "cell_type": "markdown",
   "id": "adfc9da4",
   "metadata": {},
   "source": [
    "# First pass look at high speed video \n",
    "\n",
    "For now, just want to make sure I can open videos, read images, put different views together, etc."
   ]
  },
  {
   "cell_type": "code",
   "execution_count": 1,
   "id": "3cebf400",
   "metadata": {},
   "outputs": [],
   "source": [
    "import os\n",
    "import glob\n",
    "import cv2 \n",
    "\n",
    "import numpy as np"
   ]
  },
  {
   "cell_type": "markdown",
   "id": "1a46a2ab",
   "metadata": {},
   "source": [
    "## Load data"
   ]
  },
  {
   "cell_type": "code",
   "execution_count": 2,
   "id": "1187bdc5",
   "metadata": {},
   "outputs": [],
   "source": [
    "# path to parent folder containing videos from multiple cameras\n",
    "root_path = \"/media/sam/SamData/HighSpeedVideo/SamHingeTwoCameraTest\"\n",
    "cameras = [\"Camera_1\", \"Camera_2\"]  # camera names are the first part of the folders containing video files\n",
    "date_str = \"171306\"  # the particular trigger event/videos we're looking at\n",
    "\n",
    "file_ext = \".avi\"  # for now looking at avi files -- should maybe switch to mraw eventually?"
   ]
  },
  {
   "cell_type": "code",
   "execution_count": 3,
   "id": "6164285b",
   "metadata": {},
   "outputs": [
    {
     "name": "stdout",
     "output_type": "stream",
     "text": [
      "/media/sam/SamData/HighSpeedVideo/SamHingeTwoCameraTest/Camera_1_C001H001S0001_20221122_171306/Camera_1_C001H001S0001_20221122_171306_S0001_20221129_100639/Camera_1_C001H001S0001_20221122_171306_S0001_20221129_100639.avi\n",
      "\n",
      "/media/sam/SamData/HighSpeedVideo/SamHingeTwoCameraTest/Camera_2_C002H001S0001_20221122_171306/Camera_2_C002H001S0001_20221122_171306_S0001_20230109_131733/Camera_2_C002H001S0001_20221122_171306_S0001_20230109_131733.avi\n",
      "\n"
     ]
    }
   ],
   "source": [
    "# locate paths to the video files we care about\n",
    "folder_str = os.path.join(root_path, \"%s_*_%s\", \"*\", \"*%s\")\n",
    "video_paths = [glob.glob(folder_str%(cam, date_str, file_ext))[0] for cam in cameras]\n",
    "\n",
    "# do a little print check \n",
    "[print(p + \"\\n\") for p in video_paths] ;"
   ]
  },
  {
   "cell_type": "markdown",
   "id": "79db9986",
   "metadata": {},
   "source": [
    "## Basic test -- use OpenCV to read both videos and play combined frames"
   ]
  },
  {
   "cell_type": "code",
   "execution_count": 4,
   "id": "24d201e3",
   "metadata": {},
   "outputs": [
    {
     "name": "stdout",
     "output_type": "stream",
     "text": [
      "width =  768.0\n",
      "height =  768.0\n",
      "width =  768.0\n",
      "height =  768.0\n"
     ]
    }
   ],
   "source": [
    "# create video capture objects for each movie\n",
    "PLAY_TEST_FLAG = False\n",
    "vid_caps = [cv2.VideoCapture(path) for path in video_paths]\n",
    "\n",
    "for cap in vid_caps:\n",
    "    width  = cap.get(3)  # float `width`\n",
    "    height = cap.get(4)  # float `height`\n",
    "    print('width = ', width)\n",
    "    print('height = ', height)\n",
    "    \n",
    "# set 1/fp(m)s\n",
    "dt = 20\n",
    "\n",
    "# get total frame count for the movie(s)\n",
    "N_frames = min([int(cap.get(cv2.CAP_PROP_FRAME_COUNT)) for cap in vid_caps])\n",
    "    \n",
    "# initialize window for display\n",
    "cv2.namedWindow('combined views', cv2.WINDOW_NORMAL)\n",
    "\n",
    "# loop through frames, load images, and displayprint(folder_name)\n",
    "while all([cap.isOpened() for cap in vid_caps]):\n",
    "    \n",
    "    # maybe we want to skip this\n",
    "    if not PLAY_TEST_FLAG:\n",
    "        break \n",
    "    # read both frames and boolean return values\n",
    "    rets, frames = list(zip(*[cap.read() for cap in vid_caps]))\n",
    "    \n",
    "    # make sure we got frames\n",
    "    if not all(rets):\n",
    "        print(\"Can't read frames -- exiting\")\n",
    "        break\n",
    "\n",
    "    # if we read images, convert and display them \n",
    "    imgs = [cv2.cvtColor(frame, cv2.COLOR_BGR2GRAY) for frame in frames]\n",
    "    img_combined = np.hstack(tuple(imgs))\n",
    "    cv2.imshow('combined views', img_combined)\n",
    "    \n",
    "    # press ESC to exit\n",
    "    k = cv2.waitKey(dt) & 0xff\n",
    "    if k == 27:\n",
    "        break\n",
    "\n",
    "# # release video captures\n",
    "# [cap.release() for cap in vid_caps] ;\n",
    "# cv2.destroyAllWindows()"
   ]
  },
  {
   "cell_type": "code",
   "execution_count": 5,
   "id": "f0f3be81",
   "metadata": {},
   "outputs": [],
   "source": [
    "[cap.release() for cap in vid_caps] ;\n",
    "cv2.destroyAllWindows()"
   ]
  },
  {
   "cell_type": "markdown",
   "id": "74e66421",
   "metadata": {},
   "source": [
    "## Save new combined video? \n",
    "\n",
    "Uses much of the same code as the 'basic test' stuff above"
   ]
  },
  {
   "cell_type": "code",
   "execution_count": 20,
   "id": "bcd60729",
   "metadata": {},
   "outputs": [
    {
     "name": "stdout",
     "output_type": "stream",
     "text": [
      "/media/sam/SamData/HighSpeedVideo/SamHingeTwoCameraTest/combined_20221122_171306_S0001_20221129_100639/combined_cameras_20221122_171306_S0001_20221129_100639.avi\n"
     ]
    }
   ],
   "source": [
    "# get path to directory wherein we can save combined video file\n",
    "video_path_split = video_paths[0].split('/')\n",
    "folder_name = video_path_split[-2]\n",
    "folder_name_split = folder_name.split('_')\n",
    "file_id = '_'.join(folder_name_split[3:])\n",
    "file_ext = '.avi'\n",
    "\n",
    "save_fn = 'combined_cameras_' + file_id + file_ext\n",
    "save_path = os.path.join(root_path, 'combined', 'combined_' + file_id)\n",
    "if not os.path.exists(save_path):\n",
    "    os.mkdir(save_path)\n",
    "\n",
    "save_path_full = os.path.join(save_path, save_fn)\n",
    "print(save_path_full)"
   ]
  },
  {
   "cell_type": "code",
   "execution_count": 21,
   "id": "94072ca3",
   "metadata": {},
   "outputs": [],
   "source": [
    "# create video writing object \n",
    "# fourcc = cv2.VideoWriter_fourcc(*'MJPG')\n",
    "fourcc = cv2.VideoWriter_fourcc('M','J','P','G')\n",
    "FPS = int(50)\n",
    "frameSize = (height, 2*width)\n",
    "\n",
    "vid_writer = cv2.VideoWriter(save_path_full, fourcc, FPS, (int(2*width), int(height)))"
   ]
  },
  {
   "cell_type": "code",
   "execution_count": 22,
   "id": "7648b112",
   "metadata": {},
   "outputs": [
    {
     "name": "stdout",
     "output_type": "stream",
     "text": [
      "Can't read frames -- exiting\n",
      "finished writing new video\n"
     ]
    }
   ],
   "source": [
    "# loop over frames and write new video file\n",
    "# create video capture objects for each movie\n",
    "vid_caps = [cv2.VideoCapture(path) for path in video_paths]\n",
    "\n",
    "# get total frame count for the movie(s)\n",
    "N_frames = min([int(cap.get(cv2.CAP_PROP_FRAME_COUNT)) for cap in vid_caps])\n",
    "\n",
    "# loop through frames, load images, and displayprint(folder_name)\n",
    "while all([cap.isOpened() for cap in vid_caps]):\n",
    "    # read both frames and boolean return values\n",
    "    rets, frames = list(zip(*[cap.read() for cap in vid_caps]))\n",
    "\n",
    "    # make sure we got frames\n",
    "    if not all(rets):\n",
    "        print(\"Can't read frames -- exiting\")\n",
    "        break\n",
    "\n",
    "    # if we read images, convert and combine them \n",
    "    # imgs = [cv2.cvtColor(frame, cv2.COLOR_BGR2GRAY) for frame in frames]\n",
    "    frame_combined = np.hstack(tuple(frames))\n",
    "    # print(frame_combined.shape)\n",
    "    \n",
    "    # write combined image to new video file\n",
    "    vid_writer.write(frame_combined)\n",
    "\n",
    "# release video captures and writers\n",
    "[cap.release() for cap in vid_caps] ;\n",
    "vid_writer.release()\n",
    "print('finished writing new video')"
   ]
  },
  {
   "cell_type": "code",
   "execution_count": 19,
   "id": "9988b4ea",
   "metadata": {},
   "outputs": [],
   "source": []
  },
  {
   "cell_type": "code",
   "execution_count": null,
   "id": "9b8f2c1f",
   "metadata": {},
   "outputs": [],
   "source": []
  }
 ],
 "metadata": {
  "kernelspec": {
   "display_name": "Python [conda env:highspeed]",
   "language": "python",
   "name": "conda-env-highspeed-py"
  },
  "language_info": {
   "codemirror_mode": {
    "name": "ipython",
    "version": 3
   },
   "file_extension": ".py",
   "mimetype": "text/x-python",
   "name": "python",
   "nbconvert_exporter": "python",
   "pygments_lexer": "ipython3",
   "version": "3.11.0"
  }
 },
 "nbformat": 4,
 "nbformat_minor": 5
}
